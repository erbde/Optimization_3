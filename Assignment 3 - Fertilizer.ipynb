{
 "nbformat": 4,
 "nbformat_minor": 2,
 "metadata": {
  "language_info": {
   "name": "python",
   "codemirror_mode": {
    "name": "ipython",
    "version": 3
   },
   "version": "3.7.3-final"
  },
  "orig_nbformat": 2,
  "file_extension": ".py",
  "mimetype": "text/x-python",
  "name": "python",
  "npconvert_exporter": "python",
  "pygments_lexer": "ipython3",
  "version": 3,
  "kernelspec": {
   "name": "python3",
   "display_name": "Python 3"
  }
 },
 "cells": [
  {
   "cell_type": "markdown",
   "execution_count": null,
   "metadata": {},
   "outputs": [],
   "source": [
    "# Optimization Assignment 3\n",
    "\n",
    "### *Ian Shupe, Travis Cook, Jeff Taillon, and Daniel Erb*"
   ]
  },
  {
   "cell_type": "markdown",
   "execution_count": null,
   "metadata": {},
   "outputs": [],
   "source": [
    "## Fertilizer Production Problem\n",
    "\n",
    "### Objective in Words:\n",
    "\n",
    "Decide how much of each fertilizer to produce so that profit is maximized subject to the following constraints:\n",
    "\n",
    "Fertilizer 1 must contain at least 40% nitrogen.\n",
    "\n",
    "Fertilizer 2 must contain at least 70% silicon.\n",
    "\n",
    "The total amount of nitrogen purchased may not exceed 8,000 lbs.\n",
    "\n",
    "The total amount of silicon purchased may not exceed 10,000 lbs."
   ]
  },
  {
   "cell_type": "markdown",
   "execution_count": null,
   "metadata": {},
   "outputs": [],
   "source": [
    "### Data Definition\n",
    "\n",
    "$$Let \\; F \\; = \\; \\{1, 2\\} \\; \\tag{types of fertilzers}$$\n",
    "\n",
    "$$E \\; = \\; \\{N, S\\} \\; \\tag{types of elements}$$\n",
    "\n",
    "$$cost_i = per \\; pound \\; cost \\; of \\; i, \\;i \\in E$$\n",
    "\n",
    "$$revenue_j = per \\; pound \\; revenue \\; of \\; j, \\; j \\in F$$"
   ]
  },
  {
   "cell_type": "markdown",
   "execution_count": null,
   "metadata": {},
   "outputs": [],
   "source": [
    "### Decisions\n",
    "\n",
    "$$X_{i,j} = pounds \\; of \\; i \\; in \\; j, \\; i \\in E, \\; j \\in F \\tag{Amount of Element in Fertilizer}$$"
   ]
  },
  {
   "cell_type": "markdown",
   "execution_count": null,
   "metadata": {},
   "outputs": [],
   "source": [
    "### Objective\n",
    "\n",
    "$$max \\sum_{j \\in F}\\sum_{i \\in E} X_{i,j} * revenue_j - \\sum_{j \\in F}\\sum_{i \\in E} X_{i,j} * cost_i \\tag{Profit}$$\n",
    "\n",
    "$$S.T. \\;\\; X_{N,1} \\geq 0.4 \\sum_{i \\in E} X_{i,1} \\;, \\tag{40% Nitrogen}$$\n",
    "\n",
    "$$X_{S,2} \\geq 0.7 \\sum_{i \\in E} X_{i,2} \\;, \\tag{70% Silicon}$$\n",
    "\n",
    "$$\\sum_{j \\in F}X_{N,j} \\leq 8,000 \\;, \\tag{8,000 Pounds Max Nitrogen}$$\n",
    "\n",
    "$$\\sum_{j \\in F}X_{S,j} \\leq 10,000 \\tag{10,000 Pounds Max Silicon}$$"
   ]
  },
  {
   "cell_type": "code",
   "execution_count": 2,
   "metadata": {},
   "outputs": [],
   "source": [
    "F = [\"F1\",\"F2\"]\n",
    "E = [\"N\",\"S\"]\n",
    "cost = {'N':15, 'S':10} \n",
    "revenue = {\"F1\":70,\"F2\":50}\n",
    "limits = {\"N\":8000,\"S\":10000}\n",
    "maxpctN = {\"F1\":0.4, \"F2\": 0}\n",
    "maxpctS = {\"F1\":0  , \"F2\": 0.7}\n"
   ]
  },
  {
   "cell_type": "code",
   "execution_count": 1,
   "metadata": {},
   "outputs": [],
   "source": [
    "from pyomo.environ import *\n",
    "\n",
    "model = ConcreteModel()"
   ]
  },
  {
   "cell_type": "code",
   "execution_count": 3,
   "metadata": {},
   "outputs": [
    {
     "name": "stdout",
     "output_type": "stream",
     "text": "Defining element variable for first time\n3 Set Declarations\n    x_index : Dim=0, Dimen=2, Size=4, Domain=None, Ordered=False, Bounds=None\n        Virtual\n    x_index_0 : Dim=0, Dimen=1, Size=2, Domain=None, Ordered=False, Bounds=None\n        ['N', 'S']\n    x_index_1 : Dim=0, Dimen=1, Size=2, Domain=None, Ordered=False, Bounds=None\n        ['F1', 'F2']\n\n1 Var Declarations\n    x : Size=4, Index=x_index\n        Key         : Lower : Value : Upper : Fixed : Stale : Domain\n        ('N', 'F1') :     0 :  None :  None : False :  True : NonNegativeReals\n        ('N', 'F2') :     0 :  None :  None : False :  True : NonNegativeReals\n        ('S', 'F1') :     0 :  None :  None : False :  True : NonNegativeReals\n        ('S', 'F2') :     0 :  None :  None : False :  True : NonNegativeReals\n\n4 Declarations: x_index_0 x_index_1 x_index x\n"
    }
   ],
   "source": [
    "try: \n",
    "    model.del_component(model.x)\n",
    "    model.del_component(model.x_index)\n",
    "except:\n",
    "    print(\"Defining element variable for first time\")\n",
    "model.x = Var(E, F, domain=NonNegativeReals)\n",
    "\n",
    "model.pprint()"
   ]
  },
  {
   "cell_type": "code",
   "execution_count": 4,
   "metadata": {},
   "outputs": [],
   "source": [
    "def fert_objective(model, E, F):\n",
    "    model_sum = []\n",
    "    for i in E:\n",
    "        for j in F:\n",
    "            model_sum = sum(model.x[i,j]*revenue[j])-sum(model.x[i,j]*cost[i])\n",
    "    return model_sum"
   ]
  },
  {
   "cell_type": "code",
   "execution_count": 6,
   "metadata": {},
   "outputs": [
    {
     "data": {
      "text/plain": "<pyomo.core.base.sets.SimpleSet at 0x1cdfd450620>"
     },
     "execution_count": 6,
     "metadata": {},
     "output_type": "execute_result"
    }
   ],
   "source": [
    "model.x_index_0"
   ]
  },
  {
   "cell_type": "code",
   "execution_count": 7,
   "metadata": {},
   "outputs": [
    {
     "name": "stdout",
     "output_type": "stream",
     "text": "Defining profit for the first time\n3 Set Declarations\n    x_index : Dim=0, Dimen=2, Size=4, Domain=None, Ordered=False, Bounds=None\n        Virtual\n    x_index_0 : Dim=0, Dimen=1, Size=2, Domain=None, Ordered=False, Bounds=None\n        ['N', 'S']\n    x_index_1 : Dim=0, Dimen=1, Size=2, Domain=None, Ordered=False, Bounds=None\n        ['F1', 'F2']\n\n1 Var Declarations\n    x : Size=4, Index=x_index\n        Key         : Lower : Value : Upper : Fixed : Stale : Domain\n        ('N', 'F1') :     0 :  None :  None : False :  True : NonNegativeReals\n        ('N', 'F2') :     0 :  None :  None : False :  True : NonNegativeReals\n        ('S', 'F1') :     0 :  None :  None : False :  True : NonNegativeReals\n        ('S', 'F2') :     0 :  None :  None : False :  True : NonNegativeReals\n\n1 Objective Declarations\n    Profit : Size=1, Index=None, Active=True\n        Key  : Active : Sense    : Expression\n        None :   True : maximize : 70*x[N,F1] + 70*x[S,F1] + 50*x[N,F2] + 50*x[S,F2] - (15*x[N,F1] + 10*x[S,F1] + 15*x[N,F2] + 10*x[S,F2])\n\n1 Constraint Declarations\n    n_content : Size=1, Index=None, Active=True\n        Key  : Lower : Body                              : Upper : Active\n        None :  -Inf : 0.4*(x[N,F1] + x[S,F1]) - x[N,F1] :   0.0 :   True\n\n6 Declarations: x_index_0 x_index_1 x_index x n_content Profit\n"
    }
   ],
   "source": [
    "try:\n",
    "    model.del_component(model.Profit)\n",
    "except:\n",
    "    print(\"Defining profit for the first time\")\n",
    "model.Profit = Objective(expr = sum(sum(model.x[i,j]*revenue[j] for i in E) for j in F) -\n",
    "    sum(sum(model.x[i,j]*cost[i] for i in E) for j in F),sense = maximize)\n",
    "\n",
    "model.pprint()"
   ]
  },
  {
   "cell_type": "code",
   "execution_count": 5,
   "metadata": {},
   "outputs": [
    {
     "name": "stdout",
     "output_type": "stream",
     "text": "Defining TotalInvestment for the first time\n3 Set Declarations\n    x_index : Dim=0, Dimen=2, Size=4, Domain=None, Ordered=False, Bounds=None\n        Virtual\n    x_index_0 : Dim=0, Dimen=1, Size=2, Domain=None, Ordered=False, Bounds=None\n        ['N', 'S']\n    x_index_1 : Dim=0, Dimen=1, Size=2, Domain=None, Ordered=False, Bounds=None\n        ['F1', 'F2']\n\n1 Var Declarations\n    x : Size=4, Index=x_index\n        Key         : Lower : Value : Upper : Fixed : Stale : Domain\n        ('N', 'F1') :     0 :  None :  None : False :  True : NonNegativeReals\n        ('N', 'F2') :     0 :  None :  None : False :  True : NonNegativeReals\n        ('S', 'F1') :     0 :  None :  None : False :  True : NonNegativeReals\n        ('S', 'F2') :     0 :  None :  None : False :  True : NonNegativeReals\n\n1 Constraint Declarations\n    n_content : Size=1, Index=None, Active=True\n        Key  : Lower : Body                              : Upper : Active\n        None :  -Inf : 0.4*(x[N,F1] + x[S,F1]) - x[N,F1] :   0.0 :   True\n\n5 Declarations: x_index_0 x_index_1 x_index x n_content\n"
    }
   ],
   "source": [
    "try:\n",
    "    model.del_component(model.n_content)\n",
    "except:\n",
    "    print(\"Defining TotalInvestment for the first time\")\n",
    "model.n_content = Constraint(\n",
    "    expr = model.x[\"N\",\"F1\"] >= \n",
    "    maxpctN[\"F1\"]*sum(model.x[i,\"F1\"] for i in E))\n",
    "model.pprint()"
   ]
  },
  {
   "cell_type": "code",
   "execution_count": 8,
   "metadata": {},
   "outputs": [
    {
     "name": "stdout",
     "output_type": "stream",
     "text": "Defining TotalInvestment for the first time\n3 Set Declarations\n    x_index : Dim=0, Dimen=2, Size=4, Domain=None, Ordered=False, Bounds=None\n        Virtual\n    x_index_0 : Dim=0, Dimen=1, Size=2, Domain=None, Ordered=False, Bounds=None\n        ['N', 'S']\n    x_index_1 : Dim=0, Dimen=1, Size=2, Domain=None, Ordered=False, Bounds=None\n        ['F1', 'F2']\n\n1 Var Declarations\n    x : Size=4, Index=x_index\n        Key         : Lower : Value : Upper : Fixed : Stale : Domain\n        ('N', 'F1') :     0 :  None :  None : False :  True : NonNegativeReals\n        ('N', 'F2') :     0 :  None :  None : False :  True : NonNegativeReals\n        ('S', 'F1') :     0 :  None :  None : False :  True : NonNegativeReals\n        ('S', 'F2') :     0 :  None :  None : False :  True : NonNegativeReals\n\n1 Objective Declarations\n    Profit : Size=1, Index=None, Active=True\n        Key  : Active : Sense    : Expression\n        None :   True : maximize : 70*x[N,F1] + 70*x[S,F1] + 50*x[N,F2] + 50*x[S,F2] - (15*x[N,F1] + 10*x[S,F1] + 15*x[N,F2] + 10*x[S,F2])\n\n2 Constraint Declarations\n    n_content : Size=1, Index=None, Active=True\n        Key  : Lower : Body                              : Upper : Active\n        None :  -Inf : 0.4*(x[N,F1] + x[S,F1]) - x[N,F1] :   0.0 :   True\n    s_content : Size=1, Index=None, Active=True\n        Key  : Lower : Body                              : Upper : Active\n        None :  -Inf : 0.7*(x[N,F2] + x[S,F2]) - x[S,F2] :   0.0 :   True\n\n7 Declarations: x_index_0 x_index_1 x_index x n_content Profit s_content\n"
    }
   ],
   "source": [
    "try:\n",
    "    model.del_component(model.s_content)\n",
    "except:\n",
    "    print(\"Defining TotalInvestment for the first time\")\n",
    "model.s_content = Constraint(\n",
    "    expr = model.x[\"S\",\"F2\"] >= \n",
    "    maxpctS[\"F2\"]*sum(model.x[i,\"F2\"] for i in E))\n",
    "model.pprint()"
   ]
  },
  {
   "cell_type": "code",
   "execution_count": 10,
   "metadata": {},
   "outputs": [
    {
     "name": "stdout",
     "output_type": "stream",
     "text": "Defining TotalInvestment for the first time\n3 Set Declarations\n    x_index : Dim=0, Dimen=2, Size=4, Domain=None, Ordered=False, Bounds=None\n        Virtual\n    x_index_0 : Dim=0, Dimen=1, Size=2, Domain=None, Ordered=False, Bounds=None\n        ['N', 'S']\n    x_index_1 : Dim=0, Dimen=1, Size=2, Domain=None, Ordered=False, Bounds=None\n        ['F1', 'F2']\n\n1 Var Declarations\n    x : Size=4, Index=x_index\n        Key         : Lower : Value : Upper : Fixed : Stale : Domain\n        ('N', 'F1') :     0 :  None :  None : False :  True : NonNegativeReals\n        ('N', 'F2') :     0 :  None :  None : False :  True : NonNegativeReals\n        ('S', 'F1') :     0 :  None :  None : False :  True : NonNegativeReals\n        ('S', 'F2') :     0 :  None :  None : False :  True : NonNegativeReals\n\n1 Objective Declarations\n    Profit : Size=1, Index=None, Active=True\n        Key  : Active : Sense    : Expression\n        None :   True : maximize : 70*x[N,F1] + 70*x[S,F1] + 50*x[N,F2] + 50*x[S,F2] - (15*x[N,F1] + 10*x[S,F1] + 15*x[N,F2] + 10*x[S,F2])\n\n4 Constraint Declarations\n    n_content : Size=1, Index=None, Active=True\n        Key  : Lower : Body                              : Upper : Active\n        None :  -Inf : 0.4*(x[N,F1] + x[S,F1]) - x[N,F1] :   0.0 :   True\n    n_total : Size=1, Index=None, Active=True\n        Key  : Lower : Body              : Upper  : Active\n        None :  -Inf : x[N,F1] + x[N,F2] : 8000.0 :   True\n    s_content : Size=1, Index=None, Active=True\n        Key  : Lower : Body                              : Upper : Active\n        None :  -Inf : 0.7*(x[N,F2] + x[S,F2]) - x[S,F2] :   0.0 :   True\n    s_total : Size=1, Index=None, Active=True\n        Key  : Lower : Body              : Upper   : Active\n        None :  -Inf : x[S,F1] + x[S,F2] : 10000.0 :   True\n\n9 Declarations: x_index_0 x_index_1 x_index x n_content Profit s_content s_total n_total\n"
    }
   ],
   "source": [
    "try:\n",
    "    model.del_component(model.n_total)\n",
    "except:\n",
    "    print(\"Defining TotalInvestment for the first time\")\n",
    "model.n_total = Constraint(\n",
    "    expr = sum(model.x[\"N\",j] for j in F) <= limits[\"N\"])\n",
    "model.pprint()"
   ]
  },
  {
   "cell_type": "code",
   "execution_count": 11,
   "metadata": {},
   "outputs": [
    {
     "name": "stdout",
     "output_type": "stream",
     "text": "3 Set Declarations\n    x_index : Dim=0, Dimen=2, Size=4, Domain=None, Ordered=False, Bounds=None\n        Virtual\n    x_index_0 : Dim=0, Dimen=1, Size=2, Domain=None, Ordered=False, Bounds=None\n        ['N', 'S']\n    x_index_1 : Dim=0, Dimen=1, Size=2, Domain=None, Ordered=False, Bounds=None\n        ['F1', 'F2']\n\n1 Var Declarations\n    x : Size=4, Index=x_index\n        Key         : Lower : Value : Upper : Fixed : Stale : Domain\n        ('N', 'F1') :     0 :  None :  None : False :  True : NonNegativeReals\n        ('N', 'F2') :     0 :  None :  None : False :  True : NonNegativeReals\n        ('S', 'F1') :     0 :  None :  None : False :  True : NonNegativeReals\n        ('S', 'F2') :     0 :  None :  None : False :  True : NonNegativeReals\n\n1 Objective Declarations\n    Profit : Size=1, Index=None, Active=True\n        Key  : Active : Sense    : Expression\n        None :   True : maximize : 70*x[N,F1] + 70*x[S,F1] + 50*x[N,F2] + 50*x[S,F2] - (15*x[N,F1] + 10*x[S,F1] + 15*x[N,F2] + 10*x[S,F2])\n\n4 Constraint Declarations\n    n_content : Size=1, Index=None, Active=True\n        Key  : Lower : Body                              : Upper : Active\n        None :  -Inf : 0.4*(x[N,F1] + x[S,F1]) - x[N,F1] :   0.0 :   True\n    n_total : Size=1, Index=None, Active=True\n        Key  : Lower : Body              : Upper  : Active\n        None :  -Inf : x[N,F1] + x[N,F2] : 8000.0 :   True\n    s_content : Size=1, Index=None, Active=True\n        Key  : Lower : Body                              : Upper : Active\n        None :  -Inf : 0.7*(x[N,F2] + x[S,F2]) - x[S,F2] :   0.0 :   True\n    s_total : Size=1, Index=None, Active=True\n        Key  : Lower : Body              : Upper   : Active\n        None :  -Inf : x[S,F1] + x[S,F2] : 10000.0 :   True\n\n9 Declarations: x_index_0 x_index_1 x_index x n_content Profit s_content n_total s_total\n"
    }
   ],
   "source": [
    "try:\n",
    "    model.del_component(model.s_total)\n",
    "except:\n",
    "    print(\"Defining TotalInvestment for the first time\")\n",
    "model.s_total = Constraint(\n",
    "    expr = sum(model.x[\"S\",j] for j in F) <= limits[\"S\"])\n",
    "model.pprint()"
   ]
  },
  {
   "cell_type": "code",
   "execution_count": 12,
   "metadata": {},
   "outputs": [],
   "source": [
    "solver = SolverFactory('glpk')\n",
    "status = solver.solve(model)"
   ]
  },
  {
   "cell_type": "code",
   "execution_count": 13,
   "metadata": {},
   "outputs": [
    {
     "name": "stdout",
     "output_type": "stream",
     "text": "Status = \nProblem: \n- Name: unknown\n  Lower bound: 1040000.0\n  Upper bound: 1040000.0\n  Number of objectives: 1\n  Number of constraints: 5\n  Number of variables: 5\n  Number of nonzeros: 9\n  Sense: maximize\nSolver: \n- Status: ok\n  Termination condition: optimal\n  Statistics: \n    Branch and bound: \n      Number of bounded subproblems: 0\n      Number of created subproblems: 0\n  Error rc: 0\n  Time: 0.04470705986022949\nSolution: \n- number of solutions: 0\n  number of solutions displayed: 0\n\n"
    }
   ],
   "source": [
    "print('Status = %s' % status)"
   ]
  },
  {
   "cell_type": "code",
   "execution_count": 16,
   "metadata": {},
   "outputs": [
    {
     "name": "stdout",
     "output_type": "stream",
     "text": "x[N,F1] = 8000.000000\nx[N,F2] = 0.000000\nx[S,F1] = 10000.000000\nx[S,F2] = 0.000000\nObjective = 1040000.000000\n"
    }
   ],
   "source": [
    "for i in E:\n",
    "    for j in F:\n",
    "        print('%s = %f' % (model.x[i,j], model.x[i,j].value))\n",
    "print(\"Objective = %f\" % value(model.Profit))\n"
   ]
  }
 ]
}