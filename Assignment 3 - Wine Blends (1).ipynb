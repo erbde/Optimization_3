{
 "cells": [
  {
   "cell_type": "markdown",
   "execution_count": null,
   "metadata": {},
   "outputs": [],
   "source": [
    "# Optimization Assignment 3\n",
    "\n",
    "### *Ian Shupe, Travis Cook, Jeff Taillon, and Daniel Erb*"
   ]
  },
  {
   "cell_type": "markdown",
   "execution_count": null,
   "metadata": {},
   "outputs": [],
   "source": [
    "## Wine Blending Problem\n",
    "\n",
    "### Objective in Words:\n",
    "\n",
    "Determine the amount of vintages 1 through 4 to use to create wine blends A, B and C in order to maximize profit subject to the following constraints:\n",
    "\n",
    "The amount of vintage used must not exceed it's supply.\n",
    "\n",
    "The sum of vintages 1 and 2 within blend A must be at least 75% of the total of blend A.\n",
    "\n",
    "The amount of vintage 4 within blend A must not exceed 5% of the total of blend A.\n",
    "\n",
    "The sum of vintages 2 and 3 within blend B must be at least 35% of the total of blend B.\n",
    "\n",
    "The sum of vintage 1 and 3 within blend C must be at least 50% of the total of blend C.\n",
    "\n",
    "The amount of vintage 4 within blend C must not exceed 40% of the total of blend C."
   ]
  },
  {
   "cell_type": "markdown",
   "execution_count": null,
   "metadata": {},
   "outputs": [],
   "source": [
    "### Data Definition\n",
    "$$ Let \\; B \\; = \\;\\{A,B,C\\} \\tag{Wine Blends}$$\n",
    "\n",
    "$$ V \\; = \\;\\{1,2,3,4\\} \\tag{Vintages}$$\n",
    "\n",
    "$$cost_i = \\text{ per gallon cost of } i, \\;i \\in V$$\n",
    "\n",
    "$$sale_j = \\text{ per gallon sales price of } j, \\; j \\in B$$\n",
    "\n",
    "$$suppy_i = \\text{ total available gallons of }i, \\; i \\in V$$"
   ]
  },
  {
   "cell_type": "markdown",
   "execution_count": null,
   "metadata": {},
   "outputs": [],
   "source": [
    "### Decisions\n",
    "\n",
    "$$ X_{i,j} = \\text{ gallons of } i \\text{ in } j, i \\in V, j \\in B \\tag{Gallons of Vintage in Blend} $$\n"
   ]
  },
  {
   "cell_type": "markdown",
   "execution_count": null,
   "metadata": {},
   "outputs": [],
   "source": [
    "### Objective\n",
    "\n",
    "$$ \\text{ max } \\sum_{j \\in B} \\sum_{i \\in V}X_{i,j}*sale_j - \\sum_{j \\in B} \\sum_{i \\in V}X_{i,j}*cost_i \\tag{Profit}$$\n",
    "$$ \\text{S.T. } \\sum_{k \\in S}X_{k,A} \\geq 0.75\\sum_{i \\in V}X_{i,A},\\ S = \\{1,2\\}, \\tag{Min Content: Blend A}$$\n",
    "$$ X_{4,A} \\leq 0.05\\sum_{i \\in V}X_{i,A}, \\tag{Max Content: Blend A} $$\n",
    "\n",
    "$$ \\sum_{l \\in T}X_{l,B} \\geq 0.35\\sum_{i \\in V}X_{i,B},\\ T = \\{2,3\\}, \\tag{Min Content: Blend B}$$\n",
    "\n",
    "$$ \\sum_{m \\in U}X_{m,C} \\geq 0.50\\sum_{i \\in V}X_{i,C},\\ U = \\{1,3\\}, \\tag{Min Content: Blend C}$$\n",
    "$$ X_{4,C} \\leq 0.40\\sum_{i \\in V}X_{i,C}, \\tag{Max Content: Blend C} $$\n",
    "$$ \\sum_{i \\in V}\\sum_{j \\in B}X_{i,j} \\leq supply_i, i \\in V\\tag{Do Not Exceed Vintage Supply}$$\n"
   ]
  },
  {
   "cell_type": "code",
   "execution_count": 1,
   "metadata": {},
   "outputs": [],
   "source": [
    "B = [\"A\",\"B\",\"C\"]\n",
    "V = [\"1\",\"2\",\"3\",\"4\"]\n",
    "\n",
    "cost = {\"1\":30, \"2\":20, \"3\":25, \"4\":15} \n",
    "sale = {\"A\":70, \"B\":40, \"C\":30}\n",
    "\n",
    "supply = {\"1\":180, \"2\":250, \"3\":200, \"4\":400} "
   ]
  },
  {
   "cell_type": "code",
   "execution_count": 2,
   "metadata": {},
   "outputs": [],
   "source": [
    "from pyomo.environ import *\n",
    "\n",
    "model = ConcreteModel()"
   ]
  },
  {
   "cell_type": "code",
   "execution_count": 3,
   "metadata": {},
   "outputs": [
    {
     "name": "stdout",
     "output_type": "stream",
     "text": "3 Set Declarations\n    x_index : Dim=0, Dimen=2, Size=12, Domain=None, Ordered=False, Bounds=None\n        Virtual\n    x_index_0 : Dim=0, Dimen=1, Size=4, Domain=None, Ordered=False, Bounds=None\n        ['1', '2', '3', '4']\n    x_index_1 : Dim=0, Dimen=1, Size=3, Domain=None, Ordered=False, Bounds=None\n        ['A', 'B', 'C']\n\n1 Var Declarations\n    x : Size=12, Index=x_index\n        Key        : Lower : Value : Upper : Fixed : Stale : Domain\n        ('1', 'A') :     0 :  None :  None : False :  True : NonNegativeReals\n        ('1', 'B') :     0 :  None :  None : False :  True : NonNegativeReals\n        ('1', 'C') :     0 :  None :  None : False :  True : NonNegativeReals\n        ('2', 'A') :     0 :  None :  None : False :  True : NonNegativeReals\n        ('2', 'B') :     0 :  None :  None : False :  True : NonNegativeReals\n        ('2', 'C') :     0 :  None :  None : False :  True : NonNegativeReals\n        ('3', 'A') :     0 :  None :  None : False :  True : NonNegativeReals\n        ('3', 'B') :     0 :  None :  None : False :  True : NonNegativeReals\n        ('3', 'C') :     0 :  None :  None : False :  True : NonNegativeReals\n        ('4', 'A') :     0 :  None :  None : False :  True : NonNegativeReals\n        ('4', 'B') :     0 :  None :  None : False :  True : NonNegativeReals\n        ('4', 'C') :     0 :  None :  None : False :  True : NonNegativeReals\n\n4 Declarations: x_index_0 x_index_1 x_index x\n"
    }
   ],
   "source": [
    "model.x = Var(V, B, domain=NonNegativeReals)\n",
    "\n",
    "model.pprint()"
   ]
  },
  {
   "cell_type": "code",
   "execution_count": 4,
   "metadata": {},
   "outputs": [
    {
     "name": "stdout",
     "output_type": "stream",
     "text": "3 Set Declarations\n    x_index : Dim=0, Dimen=2, Size=12, Domain=None, Ordered=False, Bounds=None\n        Virtual\n    x_index_0 : Dim=0, Dimen=1, Size=4, Domain=None, Ordered=False, Bounds=None\n        ['1', '2', '3', '4']\n    x_index_1 : Dim=0, Dimen=1, Size=3, Domain=None, Ordered=False, Bounds=None\n        ['A', 'B', 'C']\n\n1 Var Declarations\n    x : Size=12, Index=x_index\n        Key        : Lower : Value : Upper : Fixed : Stale : Domain\n        ('1', 'A') :     0 :  None :  None : False :  True : NonNegativeReals\n        ('1', 'B') :     0 :  None :  None : False :  True : NonNegativeReals\n        ('1', 'C') :     0 :  None :  None : False :  True : NonNegativeReals\n        ('2', 'A') :     0 :  None :  None : False :  True : NonNegativeReals\n        ('2', 'B') :     0 :  None :  None : False :  True : NonNegativeReals\n        ('2', 'C') :     0 :  None :  None : False :  True : NonNegativeReals\n        ('3', 'A') :     0 :  None :  None : False :  True : NonNegativeReals\n        ('3', 'B') :     0 :  None :  None : False :  True : NonNegativeReals\n        ('3', 'C') :     0 :  None :  None : False :  True : NonNegativeReals\n        ('4', 'A') :     0 :  None :  None : False :  True : NonNegativeReals\n        ('4', 'B') :     0 :  None :  None : False :  True : NonNegativeReals\n        ('4', 'C') :     0 :  None :  None : False :  True : NonNegativeReals\n\n1 Objective Declarations\n    Profit : Size=1, Index=None, Active=True\n        Key  : Active : Sense    : Expression\n        None :   True : maximize : 70*x[1,A] + 70*x[2,A] + 70*x[3,A] + 70*x[4,A] + 40*x[1,B] + 40*x[2,B] + 40*x[3,B] + 40*x[4,B] + 30*x[1,C] + 30*x[2,C] + 30*x[3,C] + 30*x[4,C] - (30*x[1,A] + 20*x[2,A] + 25*x[3,A] + 15*x[4,A] + 30*x[1,B] + 20*x[2,B] + 25*x[3,B] + 15*x[4,B] + 30*x[1,C] + 20*x[2,C] + 25*x[3,C] + 15*x[4,C])\n\n5 Declarations: x_index_0 x_index_1 x_index x Profit\n"
    }
   ],
   "source": [
    "model.Profit = Objective(expr = \n",
    "                         sum(sum(model.x[i,j]*sale[j] for i in V) for j in B)-sum(sum(model.x[i,j]*cost[i] for i in V) for j in B)\n",
    "                         , sense=maximize)\n",
    "\n",
    "model.pprint()"
   ]
  },
  {
   "cell_type": "code",
   "execution_count": 5,
   "metadata": {},
   "outputs": [
    {
     "name": "stdout",
     "output_type": "stream",
     "text": "3 Set Declarations\n    x_index : Dim=0, Dimen=2, Size=12, Domain=None, Ordered=False, Bounds=None\n        Virtual\n    x_index_0 : Dim=0, Dimen=1, Size=4, Domain=None, Ordered=False, Bounds=None\n        ['1', '2', '3', '4']\n    x_index_1 : Dim=0, Dimen=1, Size=3, Domain=None, Ordered=False, Bounds=None\n        ['A', 'B', 'C']\n\n1 Var Declarations\n    x : Size=12, Index=x_index\n        Key        : Lower : Value : Upper : Fixed : Stale : Domain\n        ('1', 'A') :     0 :  None :  None : False :  True : NonNegativeReals\n        ('1', 'B') :     0 :  None :  None : False :  True : NonNegativeReals\n        ('1', 'C') :     0 :  None :  None : False :  True : NonNegativeReals\n        ('2', 'A') :     0 :  None :  None : False :  True : NonNegativeReals\n        ('2', 'B') :     0 :  None :  None : False :  True : NonNegativeReals\n        ('2', 'C') :     0 :  None :  None : False :  True : NonNegativeReals\n        ('3', 'A') :     0 :  None :  None : False :  True : NonNegativeReals\n        ('3', 'B') :     0 :  None :  None : False :  True : NonNegativeReals\n        ('3', 'C') :     0 :  None :  None : False :  True : NonNegativeReals\n        ('4', 'A') :     0 :  None :  None : False :  True : NonNegativeReals\n        ('4', 'B') :     0 :  None :  None : False :  True : NonNegativeReals\n        ('4', 'C') :     0 :  None :  None : False :  True : NonNegativeReals\n\n1 Objective Declarations\n    Profit : Size=1, Index=None, Active=True\n        Key  : Active : Sense    : Expression\n        None :   True : maximize : 70*x[1,A] + 70*x[2,A] + 70*x[3,A] + 70*x[4,A] + 40*x[1,B] + 40*x[2,B] + 40*x[3,B] + 40*x[4,B] + 30*x[1,C] + 30*x[2,C] + 30*x[3,C] + 30*x[4,C] - (30*x[1,A] + 20*x[2,A] + 25*x[3,A] + 15*x[4,A] + 30*x[1,B] + 20*x[2,B] + 25*x[3,B] + 15*x[4,B] + 30*x[1,C] + 20*x[2,C] + 25*x[3,C] + 15*x[4,C])\n\n1 Constraint Declarations\n    minA : Size=1, Index=None, Active=True\n        Key  : Lower : Body                                                         : Upper : Active\n        None :  -Inf : 0.75*(x[1,A] + x[2,A] + x[3,A] + x[4,A]) - (x[1,A] + x[2,A]) :   0.0 :   True\n\n6 Declarations: x_index_0 x_index_1 x_index x Profit minA\n"
    }
   ],
   "source": [
    "S = [\"1\", \"2\"]\n",
    "\n",
    "model.minA = Constraint(\n",
    "    expr = sum(model.x[k,\"A\"] for k in S) >= 0.75*sum(model.x[i,\"A\"] for i in V))\n",
    "\n",
    "model.pprint()"
   ]
  },
  {
   "cell_type": "code",
   "execution_count": 6,
   "metadata": {},
   "outputs": [
    {
     "name": "stdout",
     "output_type": "stream",
     "text": "3 Set Declarations\n    x_index : Dim=0, Dimen=2, Size=12, Domain=None, Ordered=False, Bounds=None\n        Virtual\n    x_index_0 : Dim=0, Dimen=1, Size=4, Domain=None, Ordered=False, Bounds=None\n        ['1', '2', '3', '4']\n    x_index_1 : Dim=0, Dimen=1, Size=3, Domain=None, Ordered=False, Bounds=None\n        ['A', 'B', 'C']\n\n1 Var Declarations\n    x : Size=12, Index=x_index\n        Key        : Lower : Value : Upper : Fixed : Stale : Domain\n        ('1', 'A') :     0 :  None :  None : False :  True : NonNegativeReals\n        ('1', 'B') :     0 :  None :  None : False :  True : NonNegativeReals\n        ('1', 'C') :     0 :  None :  None : False :  True : NonNegativeReals\n        ('2', 'A') :     0 :  None :  None : False :  True : NonNegativeReals\n        ('2', 'B') :     0 :  None :  None : False :  True : NonNegativeReals\n        ('2', 'C') :     0 :  None :  None : False :  True : NonNegativeReals\n        ('3', 'A') :     0 :  None :  None : False :  True : NonNegativeReals\n        ('3', 'B') :     0 :  None :  None : False :  True : NonNegativeReals\n        ('3', 'C') :     0 :  None :  None : False :  True : NonNegativeReals\n        ('4', 'A') :     0 :  None :  None : False :  True : NonNegativeReals\n        ('4', 'B') :     0 :  None :  None : False :  True : NonNegativeReals\n        ('4', 'C') :     0 :  None :  None : False :  True : NonNegativeReals\n\n1 Objective Declarations\n    Profit : Size=1, Index=None, Active=True\n        Key  : Active : Sense    : Expression\n        None :   True : maximize : 70*x[1,A] + 70*x[2,A] + 70*x[3,A] + 70*x[4,A] + 40*x[1,B] + 40*x[2,B] + 40*x[3,B] + 40*x[4,B] + 30*x[1,C] + 30*x[2,C] + 30*x[3,C] + 30*x[4,C] - (30*x[1,A] + 20*x[2,A] + 25*x[3,A] + 15*x[4,A] + 30*x[1,B] + 20*x[2,B] + 25*x[3,B] + 15*x[4,B] + 30*x[1,C] + 20*x[2,C] + 25*x[3,C] + 15*x[4,C])\n\n2 Constraint Declarations\n    maxA : Size=1, Index=None, Active=True\n        Key  : Lower : Body                                              : Upper : Active\n        None :  -Inf : x[4,A] - 0.05*(x[1,A] + x[2,A] + x[3,A] + x[4,A]) :   0.0 :   True\n    minA : Size=1, Index=None, Active=True\n        Key  : Lower : Body                                                         : Upper : Active\n        None :  -Inf : 0.75*(x[1,A] + x[2,A] + x[3,A] + x[4,A]) - (x[1,A] + x[2,A]) :   0.0 :   True\n\n7 Declarations: x_index_0 x_index_1 x_index x Profit minA maxA\n"
    }
   ],
   "source": [
    "model.maxA = Constraint(\n",
    "    expr = model.x[\"4\",\"A\"] <= 0.05*sum(model.x[i,\"A\"] for i in V))\n",
    "\n",
    "model.pprint()"
   ]
  },
  {
   "cell_type": "code",
   "execution_count": 7,
   "metadata": {},
   "outputs": [
    {
     "name": "stdout",
     "output_type": "stream",
     "text": "3 Set Declarations\n    x_index : Dim=0, Dimen=2, Size=12, Domain=None, Ordered=False, Bounds=None\n        Virtual\n    x_index_0 : Dim=0, Dimen=1, Size=4, Domain=None, Ordered=False, Bounds=None\n        ['1', '2', '3', '4']\n    x_index_1 : Dim=0, Dimen=1, Size=3, Domain=None, Ordered=False, Bounds=None\n        ['A', 'B', 'C']\n\n1 Var Declarations\n    x : Size=12, Index=x_index\n        Key        : Lower : Value : Upper : Fixed : Stale : Domain\n        ('1', 'A') :     0 :  None :  None : False :  True : NonNegativeReals\n        ('1', 'B') :     0 :  None :  None : False :  True : NonNegativeReals\n        ('1', 'C') :     0 :  None :  None : False :  True : NonNegativeReals\n        ('2', 'A') :     0 :  None :  None : False :  True : NonNegativeReals\n        ('2', 'B') :     0 :  None :  None : False :  True : NonNegativeReals\n        ('2', 'C') :     0 :  None :  None : False :  True : NonNegativeReals\n        ('3', 'A') :     0 :  None :  None : False :  True : NonNegativeReals\n        ('3', 'B') :     0 :  None :  None : False :  True : NonNegativeReals\n        ('3', 'C') :     0 :  None :  None : False :  True : NonNegativeReals\n        ('4', 'A') :     0 :  None :  None : False :  True : NonNegativeReals\n        ('4', 'B') :     0 :  None :  None : False :  True : NonNegativeReals\n        ('4', 'C') :     0 :  None :  None : False :  True : NonNegativeReals\n\n1 Objective Declarations\n    Profit : Size=1, Index=None, Active=True\n        Key  : Active : Sense    : Expression\n        None :   True : maximize : 70*x[1,A] + 70*x[2,A] + 70*x[3,A] + 70*x[4,A] + 40*x[1,B] + 40*x[2,B] + 40*x[3,B] + 40*x[4,B] + 30*x[1,C] + 30*x[2,C] + 30*x[3,C] + 30*x[4,C] - (30*x[1,A] + 20*x[2,A] + 25*x[3,A] + 15*x[4,A] + 30*x[1,B] + 20*x[2,B] + 25*x[3,B] + 15*x[4,B] + 30*x[1,C] + 20*x[2,C] + 25*x[3,C] + 15*x[4,C])\n\n3 Constraint Declarations\n    maxA : Size=1, Index=None, Active=True\n        Key  : Lower : Body                                              : Upper : Active\n        None :  -Inf : x[4,A] - 0.05*(x[1,A] + x[2,A] + x[3,A] + x[4,A]) :   0.0 :   True\n    minA : Size=1, Index=None, Active=True\n        Key  : Lower : Body                                                         : Upper : Active\n        None :  -Inf : 0.75*(x[1,A] + x[2,A] + x[3,A] + x[4,A]) - (x[1,A] + x[2,A]) :   0.0 :   True\n    minB : Size=1, Index=None, Active=True\n        Key  : Lower : Body                                                         : Upper : Active\n        None :  -Inf : 0.35*(x[1,B] + x[2,B] + x[3,B] + x[4,B]) - (x[2,B] + x[3,B]) :   0.0 :   True\n\n8 Declarations: x_index_0 x_index_1 x_index x Profit minA maxA minB\n"
    }
   ],
   "source": [
    "T = [\"2\",\"3\"]\n",
    "\n",
    "model.minB = Constraint(\n",
    "    expr = sum(model.x[l,\"B\"] for l in T) >= 0.35*sum(model.x[i,\"B\"] for i in V))\n",
    "\n",
    "model.pprint()"
   ]
  },
  {
   "cell_type": "code",
   "execution_count": 8,
   "metadata": {},
   "outputs": [
    {
     "name": "stdout",
     "output_type": "stream",
     "text": "3 Set Declarations\n    x_index : Dim=0, Dimen=2, Size=12, Domain=None, Ordered=False, Bounds=None\n        Virtual\n    x_index_0 : Dim=0, Dimen=1, Size=4, Domain=None, Ordered=False, Bounds=None\n        ['1', '2', '3', '4']\n    x_index_1 : Dim=0, Dimen=1, Size=3, Domain=None, Ordered=False, Bounds=None\n        ['A', 'B', 'C']\n\n1 Var Declarations\n    x : Size=12, Index=x_index\n        Key        : Lower : Value : Upper : Fixed : Stale : Domain\n        ('1', 'A') :     0 :  None :  None : False :  True : NonNegativeReals\n        ('1', 'B') :     0 :  None :  None : False :  True : NonNegativeReals\n        ('1', 'C') :     0 :  None :  None : False :  True : NonNegativeReals\n        ('2', 'A') :     0 :  None :  None : False :  True : NonNegativeReals\n        ('2', 'B') :     0 :  None :  None : False :  True : NonNegativeReals\n        ('2', 'C') :     0 :  None :  None : False :  True : NonNegativeReals\n        ('3', 'A') :     0 :  None :  None : False :  True : NonNegativeReals\n        ('3', 'B') :     0 :  None :  None : False :  True : NonNegativeReals\n        ('3', 'C') :     0 :  None :  None : False :  True : NonNegativeReals\n        ('4', 'A') :     0 :  None :  None : False :  True : NonNegativeReals\n        ('4', 'B') :     0 :  None :  None : False :  True : NonNegativeReals\n        ('4', 'C') :     0 :  None :  None : False :  True : NonNegativeReals\n\n1 Objective Declarations\n    Profit : Size=1, Index=None, Active=True\n        Key  : Active : Sense    : Expression\n        None :   True : maximize : 70*x[1,A] + 70*x[2,A] + 70*x[3,A] + 70*x[4,A] + 40*x[1,B] + 40*x[2,B] + 40*x[3,B] + 40*x[4,B] + 30*x[1,C] + 30*x[2,C] + 30*x[3,C] + 30*x[4,C] - (30*x[1,A] + 20*x[2,A] + 25*x[3,A] + 15*x[4,A] + 30*x[1,B] + 20*x[2,B] + 25*x[3,B] + 15*x[4,B] + 30*x[1,C] + 20*x[2,C] + 25*x[3,C] + 15*x[4,C])\n\n4 Constraint Declarations\n    maxA : Size=1, Index=None, Active=True\n        Key  : Lower : Body                                              : Upper : Active\n        None :  -Inf : x[4,A] - 0.05*(x[1,A] + x[2,A] + x[3,A] + x[4,A]) :   0.0 :   True\n    minA : Size=1, Index=None, Active=True\n        Key  : Lower : Body                                                         : Upper : Active\n        None :  -Inf : 0.75*(x[1,A] + x[2,A] + x[3,A] + x[4,A]) - (x[1,A] + x[2,A]) :   0.0 :   True\n    minB : Size=1, Index=None, Active=True\n        Key  : Lower : Body                                                         : Upper : Active\n        None :  -Inf : 0.35*(x[1,B] + x[2,B] + x[3,B] + x[4,B]) - (x[2,B] + x[3,B]) :   0.0 :   True\n    minC : Size=1, Index=None, Active=True\n        Key  : Lower : Body                                                        : Upper : Active\n        None :  -Inf : 0.5*(x[1,C] + x[2,C] + x[3,C] + x[4,C]) - (x[1,C] + x[3,C]) :   0.0 :   True\n\n9 Declarations: x_index_0 x_index_1 x_index x Profit minA maxA minB minC\n"
    }
   ],
   "source": [
    "U = [\"1\", \"3\"]\n",
    "\n",
    "model.minC = Constraint(\n",
    "    expr = sum(model.x[m,\"C\"] for m in U) >= 0.50*sum(model.x[i,\"C\"] for i in V))\n",
    "\n",
    "model.pprint()"
   ]
  },
  {
   "cell_type": "code",
   "execution_count": 9,
   "metadata": {},
   "outputs": [
    {
     "name": "stdout",
     "output_type": "stream",
     "text": "3 Set Declarations\n    x_index : Dim=0, Dimen=2, Size=12, Domain=None, Ordered=False, Bounds=None\n        Virtual\n    x_index_0 : Dim=0, Dimen=1, Size=4, Domain=None, Ordered=False, Bounds=None\n        ['1', '2', '3', '4']\n    x_index_1 : Dim=0, Dimen=1, Size=3, Domain=None, Ordered=False, Bounds=None\n        ['A', 'B', 'C']\n\n1 Var Declarations\n    x : Size=12, Index=x_index\n        Key        : Lower : Value : Upper : Fixed : Stale : Domain\n        ('1', 'A') :     0 :  None :  None : False :  True : NonNegativeReals\n        ('1', 'B') :     0 :  None :  None : False :  True : NonNegativeReals\n        ('1', 'C') :     0 :  None :  None : False :  True : NonNegativeReals\n        ('2', 'A') :     0 :  None :  None : False :  True : NonNegativeReals\n        ('2', 'B') :     0 :  None :  None : False :  True : NonNegativeReals\n        ('2', 'C') :     0 :  None :  None : False :  True : NonNegativeReals\n        ('3', 'A') :     0 :  None :  None : False :  True : NonNegativeReals\n        ('3', 'B') :     0 :  None :  None : False :  True : NonNegativeReals\n        ('3', 'C') :     0 :  None :  None : False :  True : NonNegativeReals\n        ('4', 'A') :     0 :  None :  None : False :  True : NonNegativeReals\n        ('4', 'B') :     0 :  None :  None : False :  True : NonNegativeReals\n        ('4', 'C') :     0 :  None :  None : False :  True : NonNegativeReals\n\n1 Objective Declarations\n    Profit : Size=1, Index=None, Active=True\n        Key  : Active : Sense    : Expression\n        None :   True : maximize : 70*x[1,A] + 70*x[2,A] + 70*x[3,A] + 70*x[4,A] + 40*x[1,B] + 40*x[2,B] + 40*x[3,B] + 40*x[4,B] + 30*x[1,C] + 30*x[2,C] + 30*x[3,C] + 30*x[4,C] - (30*x[1,A] + 20*x[2,A] + 25*x[3,A] + 15*x[4,A] + 30*x[1,B] + 20*x[2,B] + 25*x[3,B] + 15*x[4,B] + 30*x[1,C] + 20*x[2,C] + 25*x[3,C] + 15*x[4,C])\n\n5 Constraint Declarations\n    maxA : Size=1, Index=None, Active=True\n        Key  : Lower : Body                                              : Upper : Active\n        None :  -Inf : x[4,A] - 0.05*(x[1,A] + x[2,A] + x[3,A] + x[4,A]) :   0.0 :   True\n    maxC : Size=1, Index=None, Active=True\n        Key  : Lower : Body                                             : Upper : Active\n        None :  -Inf : x[4,C] - 0.4*(x[1,C] + x[2,C] + x[3,C] + x[4,C]) :   0.0 :   True\n    minA : Size=1, Index=None, Active=True\n        Key  : Lower : Body                                                         : Upper : Active\n        None :  -Inf : 0.75*(x[1,A] + x[2,A] + x[3,A] + x[4,A]) - (x[1,A] + x[2,A]) :   0.0 :   True\n    minB : Size=1, Index=None, Active=True\n        Key  : Lower : Body                                                         : Upper : Active\n        None :  -Inf : 0.35*(x[1,B] + x[2,B] + x[3,B] + x[4,B]) - (x[2,B] + x[3,B]) :   0.0 :   True\n    minC : Size=1, Index=None, Active=True\n        Key  : Lower : Body                                                        : Upper : Active\n        None :  -Inf : 0.5*(x[1,C] + x[2,C] + x[3,C] + x[4,C]) - (x[1,C] + x[3,C]) :   0.0 :   True\n\n10 Declarations: x_index_0 x_index_1 x_index x Profit minA maxA minB minC maxC\n"
    }
   ],
   "source": [
    "model.maxC = Constraint(\n",
    "    expr = model.x[\"4\",\"C\"] <= 0.40*sum(model.x[i,\"C\"] for i in V))\n",
    "\n",
    "model.pprint()"
   ]
  },
  {
   "cell_type": "code",
   "execution_count": 10,
   "metadata": {},
   "outputs": [
    {
     "name": "stdout",
     "output_type": "stream",
     "text": "4 Set Declarations\n    max_supply_index : Dim=0, Dimen=1, Size=4, Domain=None, Ordered=False, Bounds=None\n        [1, 2, 3, 4]\n    x_index : Dim=0, Dimen=2, Size=12, Domain=None, Ordered=False, Bounds=None\n        Virtual\n    x_index_0 : Dim=0, Dimen=1, Size=4, Domain=None, Ordered=False, Bounds=None\n        ['1', '2', '3', '4']\n    x_index_1 : Dim=0, Dimen=1, Size=3, Domain=None, Ordered=False, Bounds=None\n        ['A', 'B', 'C']\n\n1 Var Declarations\n    x : Size=12, Index=x_index\n        Key        : Lower : Value : Upper : Fixed : Stale : Domain\n        ('1', 'A') :     0 :  None :  None : False :  True : NonNegativeReals\n        ('1', 'B') :     0 :  None :  None : False :  True : NonNegativeReals\n        ('1', 'C') :     0 :  None :  None : False :  True : NonNegativeReals\n        ('2', 'A') :     0 :  None :  None : False :  True : NonNegativeReals\n        ('2', 'B') :     0 :  None :  None : False :  True : NonNegativeReals\n        ('2', 'C') :     0 :  None :  None : False :  True : NonNegativeReals\n        ('3', 'A') :     0 :  None :  None : False :  True : NonNegativeReals\n        ('3', 'B') :     0 :  None :  None : False :  True : NonNegativeReals\n        ('3', 'C') :     0 :  None :  None : False :  True : NonNegativeReals\n        ('4', 'A') :     0 :  None :  None : False :  True : NonNegativeReals\n        ('4', 'B') :     0 :  None :  None : False :  True : NonNegativeReals\n        ('4', 'C') :     0 :  None :  None : False :  True : NonNegativeReals\n\n1 Objective Declarations\n    Profit : Size=1, Index=None, Active=True\n        Key  : Active : Sense    : Expression\n        None :   True : maximize : 70*x[1,A] + 70*x[2,A] + 70*x[3,A] + 70*x[4,A] + 40*x[1,B] + 40*x[2,B] + 40*x[3,B] + 40*x[4,B] + 30*x[1,C] + 30*x[2,C] + 30*x[3,C] + 30*x[4,C] - (30*x[1,A] + 20*x[2,A] + 25*x[3,A] + 15*x[4,A] + 30*x[1,B] + 20*x[2,B] + 25*x[3,B] + 15*x[4,B] + 30*x[1,C] + 20*x[2,C] + 25*x[3,C] + 15*x[4,C])\n\n6 Constraint Declarations\n    maxA : Size=1, Index=None, Active=True\n        Key  : Lower : Body                                              : Upper : Active\n        None :  -Inf : x[4,A] - 0.05*(x[1,A] + x[2,A] + x[3,A] + x[4,A]) :   0.0 :   True\n    maxC : Size=1, Index=None, Active=True\n        Key  : Lower : Body                                             : Upper : Active\n        None :  -Inf : x[4,C] - 0.4*(x[1,C] + x[2,C] + x[3,C] + x[4,C]) :   0.0 :   True\n    max_supply : Size=4, Index=max_supply_index, Active=True\n        Key : Lower : Body                     : Upper : Active\n          1 :  -Inf : x[1,A] + x[1,B] + x[1,C] : 180.0 :   True\n          2 :  -Inf : x[2,A] + x[2,B] + x[2,C] : 250.0 :   True\n          3 :  -Inf : x[3,A] + x[3,B] + x[3,C] : 200.0 :   True\n          4 :  -Inf : x[4,A] + x[4,B] + x[4,C] : 400.0 :   True\n    minA : Size=1, Index=None, Active=True\n        Key  : Lower : Body                                                         : Upper : Active\n        None :  -Inf : 0.75*(x[1,A] + x[2,A] + x[3,A] + x[4,A]) - (x[1,A] + x[2,A]) :   0.0 :   True\n    minB : Size=1, Index=None, Active=True\n        Key  : Lower : Body                                                         : Upper : Active\n        None :  -Inf : 0.35*(x[1,B] + x[2,B] + x[3,B] + x[4,B]) - (x[2,B] + x[3,B]) :   0.0 :   True\n    minC : Size=1, Index=None, Active=True\n        Key  : Lower : Body                                                        : Upper : Active\n        None :  -Inf : 0.5*(x[1,C] + x[2,C] + x[3,C] + x[4,C]) - (x[1,C] + x[3,C]) :   0.0 :   True\n\n12 Declarations: x_index_0 x_index_1 x_index x Profit minA maxA minB minC maxC max_supply_index max_supply\n"
    }
   ],
   "source": [
    "model.max_supply = ConstraintList()\n",
    "for i in V:\n",
    "    model.max_supply.add(sum(model.x[i,j] for j in B) <= supply[i])\n",
    "\n",
    "model.pprint()"
   ]
  },
  {
   "cell_type": "code",
   "execution_count": 11,
   "metadata": {},
   "outputs": [],
   "source": [
    "solver = SolverFactory('glpk')\n",
    "status = solver.solve(model)"
   ]
  },
  {
   "cell_type": "code",
   "execution_count": 12,
   "metadata": {},
   "outputs": [
    {
     "name": "stdout",
     "output_type": "stream",
     "text": "Status = \nProblem: \n- Name: unknown\n  Lower bound: 33275.0\n  Upper bound: 33275.0\n  Number of objectives: 1\n  Number of constraints: 10\n  Number of variables: 13\n  Number of nonzeros: 33\n  Sense: maximize\nSolver: \n- Status: ok\n  Termination condition: optimal\n  Statistics: \n    Branch and bound: \n      Number of bounded subproblems: 0\n      Number of created subproblems: 0\n  Error rc: 0\n  Time: 0.027430057525634766\nSolution: \n- number of solutions: 0\n  number of solutions displayed: 0\n\n"
    }
   ],
   "source": [
    "print('Status = %s' % status)"
   ]
  },
  {
   "cell_type": "code",
   "execution_count": 14,
   "metadata": {},
   "outputs": [
    {
     "name": "stdout",
     "output_type": "stream",
     "text": "Objective = 33275.000000\nx[1,A] = 180.000000\nx[2,A] = 156.875000\nx[3,A] = 89.833333\nx[4,A] = 22.458333\nx[1,B] = 0.000000\nx[2,B] = 93.125000\nx[3,B] = 110.166667\nx[4,B] = 377.541667\nx[1,C] = 0.000000\nx[2,C] = 0.000000\nx[3,C] = 0.000000\nx[4,C] = 0.000000\n"
    }
   ],
   "source": [
    "print(\"Objective = %f\" % value(model.Profit))\n",
    "for j in B:\n",
    "    for i in V:\n",
    "        print('%s = %f' % (model.x[i,j], value(model.x[i,j])))"
   ]
  },
  {
   "cell_type": "code",
   "execution_count": null,
   "metadata": {},
   "outputs": [],
   "source": []
  }
 ],
 "metadata": {
  "kernelspec": {
   "display_name": "Python 3",
   "language": "python",
   "name": "python3"
  },
  "language_info": {
   "codemirror_mode": {
    "name": "ipython",
    "version": 3
   },
   "file_extension": ".py",
   "mimetype": "text/x-python",
   "name": "python",
   "nbconvert_exporter": "python",
   "pygments_lexer": "ipython3",
   "version": "3.7.3-final"
  }
 },
 "nbformat": 4,
 "nbformat_minor": 2
}