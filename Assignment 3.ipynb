{
 "nbformat": 4,
 "nbformat_minor": 2,
 "metadata": {
  "language_info": {
   "name": "python",
   "codemirror_mode": {
    "name": "ipython",
    "version": 3
   }
  },
  "orig_nbformat": 2,
  "file_extension": ".py",
  "mimetype": "text/x-python",
  "name": "python",
  "npconvert_exporter": "python",
  "pygments_lexer": "ipython3",
  "version": 3
 },
 "cells": [
  {
   "cell_type": "markdown",
   "metadata": {},
   "source": [
    "# Optimization Assignment 3\n",
    "\n",
    "### *Ian Shupe, Travis Cook, Jeff Taillon, and Daniel Erb*"
   ]
  },
  {
   "cell_type": "markdown",
   "metadata": {},
   "source": [
    "## Fertilizer Production Problem\n",
    "\n",
    "Decide how much of each fertilizer to produce so that profit is maximized subject to the following constraints:\n",
    "\n",
    "Fertilizer 1 must contain at least 40% nitrogen.\n",
    "\n",
    "Fertilizer 2 must contain at least 70% silicon.\n",
    "\n",
    "The total amount of nitrogen purchased may not exceed 8,000lbs.\n",
    "\n",
    "The total amount of silicon purchased may not exceed 10,000lbs."
   ]
  },
  {
   "cell_type": "markdown",
   "metadata": {},
   "source": [
    "### Data Definition\n",
    "\n",
    "Let F = {1, 2} (types of fertilizers)\n",
    "\n",
    "Let C = {N, Si} (types of elements)\n",
    "\n",
    "$cost_i =$ per pound cost of $i$, $i \\epsilon C$\n"
   ]
  },
  {
   "cell_type": "code",
   "execution_count": null,
   "metadata": {},
   "outputs": [],
   "source": []
  }
 ]
}