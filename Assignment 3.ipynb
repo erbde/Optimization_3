{
 "nbformat": 4,
 "nbformat_minor": 2,
 "metadata": {
  "language_info": {
   "name": "python",
   "codemirror_mode": {
    "name": "ipython",
    "version": 3
   },
   "version": "3.7.4-final"
  },
  "orig_nbformat": 2,
  "file_extension": ".py",
  "mimetype": "text/x-python",
  "name": "python",
  "npconvert_exporter": "python",
  "pygments_lexer": "ipython3",
  "version": 3,
  "kernelspec": {
   "name": "python3",
   "display_name": "Python 3"
  }
 },
 "cells": [
  {
   "cell_type": "markdown",
   "metadata": {},
   "source": [
    "# Optimization Assignment 3\n",
    "\n",
    "### *Ian Shupe, Travis Cook, Jeff Taillon, and Daniel Erb*"
   ]
  },
  {
   "cell_type": "markdown",
   "metadata": {},
   "source": [
    "## Fertilizer Production Problem\n",
    "\n",
    "Decide how much of each fertilizer to produce so that profit is maximized subject to the following constraints:\n",
    "\n",
    "Fertilizer 1 must contain at least 40% nitrogen.\n",
    "\n",
    "Fertilizer 2 must contain at least 70% silicon.\n",
    "\n",
    "The total amount of nitrogen purchased may not exceed 8,000lbs.\n",
    "\n",
    "The total amount of silicon purchased may not exceed 10,000lbs."
   ]
  },
  {
   "cell_type": "markdown",
   "metadata": {},
   "source": [
    "### Data Definition\n",
    "\n",
    "Let F = {1, 2} (types of fertilizers)\n",
    "\n",
    "Let C = {N, Si} (types of elements)\n",
    "\n",
    "$cost_i =$ per pound cost of $i$, $i \\in C$\n",
    "\n",
    "$revenue_j =$ per pound revenue of $j$, $j \\in F$\n",
    "\n",
    "$content_{i,j} =$ pounds of $i$ in $j$, $i \\in C$, $j \\in F$"
   ]
  },
  {
   "cell_type": "markdown",
   "metadata": {},
   "source": [
    "### Objective\n",
    "\n",
    "$$max \\sum_{i \\in C, j \\in F} content_{i,j} * revenue_j - \\sum_{i \\in C, j \\in F} content_{i,j} * cost_i$$\n",
    "\n",
    "$$S.T. \\;\\; content_{N,1} \\geq 0.4 \\sum_{i \\in C} content_{i,1}, \\tag{40% Nitrogen}$$\n",
    "\n",
    "$$content_{Si,2} \\geq 0.7 \\sum_{i \\in C} content_{i,2}, \\tag{70% Silicon}$$\n",
    "\n",
    "$$\\sum_{j \\in F}content_{N,j} \\leq 8,000, \\tag{8,000 Pounds Max Nitrogen}$$\n",
    "\n",
    "$$\\sum_{j \\in F}content_{Si,j} \\leq 10,000, \\tag{10,000 Pounds Max Silicon}$$"
   ]
  },
  {
   "cell_type": "code",
   "execution_count": 3,
   "metadata": {},
   "outputs": [],
   "source": [
    "F = [1,2]\n",
    "C = [\"N\",\"Si\"]\n",
    "cost = [10,15] # per pound cose of nitrogen and silicon\n",
    "revenue = [70,50]\n",
    "limits = [8000,10000]\n"
   ]
  },
  {
   "cell_type": "code",
   "execution_count": 1,
   "metadata": {},
   "outputs": [],
   "source": [
    "from pyomo.environ import *\n",
    "\n",
    "model = ConcreteModel()"
   ]
  },
  {
   "cell_type": "code",
   "execution_count": null,
   "metadata": {},
   "outputs": [],
   "source": [
    "try:\n",
    "    model.del_component(model.x)\n",
    "    model.del_component(model.x_index)"
   ]
  },
  {
   "cell_type": "code",
   "execution_count": null,
   "metadata": {},
   "outputs": [],
   "source": []
  },
  {
   "cell_type": "code",
   "execution_count": null,
   "metadata": {},
   "outputs": [],
   "source": []
  },
  {
   "cell_type": "code",
   "execution_count": null,
   "metadata": {},
   "outputs": [],
   "source": []
  },
  {
   "cell_type": "code",
   "execution_count": null,
   "metadata": {},
   "outputs": [],
   "source": []
  }
 ]
}