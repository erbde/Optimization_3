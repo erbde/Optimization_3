{
 "nbformat": 4,
 "nbformat_minor": 2,
 "metadata": {
  "language_info": {
   "name": "python",
   "codemirror_mode": {
    "name": "ipython",
    "version": 3
   },
   "version": "3.7.6-final"
  },
  "orig_nbformat": 2,
  "file_extension": ".py",
  "mimetype": "text/x-python",
  "name": "python",
  "npconvert_exporter": "python",
  "pygments_lexer": "ipython3",
  "version": 3,
  "kernelspec": {
   "name": "python3",
   "display_name": "Python 3"
  }
 },
 "cells": [
  {
   "cell_type": "markdown",
   "execution_count": null,
   "metadata": {},
   "outputs": [],
   "source": [
    "# Optimization Assignment 3\n",
    "\n",
    "### *Ian Shupe, Travis Cook, Jeff Taillon, and Daniel Erb*"
   ]
  },
  {
   "cell_type": "markdown",
   "execution_count": null,
   "metadata": {},
   "outputs": [],
   "source": [
    "## Fertilizer Production Problem\n",
    "\n",
    "Decide how much of each fertilizer to produce so that profit is maximized subject to the following constraints:\n",
    "\n",
    "Fertilizer 1 must contain at least 40% nitrogen.\n",
    "\n",
    "Fertilizer 2 must contain at least 70% silicon.\n",
    "\n",
    "The total amount of nitrogen purchased may not exceed 8,000 lbs.\n",
    "\n",
    "The total amount of silicon purchased may not exceed 10,000 lbs."
   ]
  },
  {
   "cell_type": "markdown",
   "execution_count": null,
   "metadata": {},
   "outputs": [],
   "source": [
    "### Data Definition\n",
    "\n",
    "$$Let \\; F \\; = \\; \\{1, 2\\} \\; \\tag{types of fertilzers}$$\n",
    "\n",
    "$$E \\; = \\; \\{N, S\\} \\; \\tag{types of elements}$$\n",
    "\n",
    "$$cost_i = per \\; pound \\; cost \\; of \\; i, \\;i \\in E$$\n",
    "\n",
    "$$revenue_j = per \\; pound \\; revenue \\; of \\; j, \\; j \\in F$$"
   ]
  },
  {
   "cell_type": "markdown",
   "execution_count": null,
   "metadata": {},
   "outputs": [],
   "source": [
    "### Decisions\n",
    "\n",
    "$$X_{i,j} = pounds \\; of \\; i \\; in \\; j, \\; i \\in E, \\; j \\in F \\tag{Amount of Element in Fertilizer}$$"
   ]
  },
  {
   "cell_type": "markdown",
   "execution_count": null,
   "metadata": {},
   "outputs": [],
   "source": [
    "### Objective\n",
    "\n",
    "$$max \\sum_{i \\in E, j \\in F} X_{i,j} * revenue_j - \\sum_{i \\in E, j \\in F} X_{i,j} * cost_i \\tag{Profit}$$\n",
    "\n",
    "$$S.T. \\;\\; X_{N,1} \\geq 0.4 \\sum_{i \\in E} X_{i,1} \\;, \\tag{40% Nitrogen}$$\n",
    "\n",
    "$$X_{S,2} \\geq 0.7 \\sum_{i \\in E} X_{i,2} \\;, \\tag{70% Silicon}$$\n",
    "\n",
    "$$\\sum_{j \\in F}X_{N,j} \\leq 8,000 \\;, \\tag{8,000 Pounds Max Nitrogen}$$\n",
    "\n",
    "$$\\sum_{j \\in F}X_{S,j} \\leq 10,000 \\tag{10,000 Pounds Max Silicon}$$"
   ]
  },
  {
   "cell_type": "code",
   "execution_count": 1,
   "metadata": {},
   "outputs": [],
   "source": [
    "F = [\"F1\",\"F2\"]\n",
    "E = [\"N\",\"S\"]\n",
    "cost = {'N':15, 'S':10} \n",
    "revenue = {\"F1\":70,\"F2\":50}\n",
    "limits = {\"N\":8000,\"S\":10000}\n",
    "maxpctN = {\"F1\":0.4, \"F2\": 0}\n",
    "maxpctS = {\"F1\":0  , \"F2\": 0.7}\n"
   ]
  },
  {
   "cell_type": "code",
   "execution_count": 2,
   "metadata": {},
   "outputs": [],
   "source": [
    "from pyomo.environ import *\n",
    "\n",
    "model = ConcreteModel()"
   ]
  },
  {
   "cell_type": "code",
   "execution_count": 3,
   "metadata": {},
   "outputs": [
    {
     "name": "stdout",
     "output_type": "stream",
     "text": "Defining element variable for first time\n3 Set Declarations\n    x_index : Dim=0, Dimen=2, Size=4, Domain=None, Ordered=False, Bounds=None\n        Virtual\n    x_index_0 : Dim=0, Dimen=1, Size=2, Domain=None, Ordered=False, Bounds=None\n        ['N', 'S']\n    x_index_1 : Dim=0, Dimen=1, Size=2, Domain=None, Ordered=False, Bounds=None\n        ['F1', 'F2']\n\n1 Var Declarations\n    x : Size=4, Index=x_index\n        Key         : Lower : Value : Upper : Fixed : Stale : Domain\n        ('N', 'F1') :     0 :  None :  None : False :  True : NonNegativeReals\n        ('N', 'F2') :     0 :  None :  None : False :  True : NonNegativeReals\n        ('S', 'F1') :     0 :  None :  None : False :  True : NonNegativeReals\n        ('S', 'F2') :     0 :  None :  None : False :  True : NonNegativeReals\n\n4 Declarations: x_index_0 x_index_1 x_index x\n"
    }
   ],
   "source": [
    "try: \n",
    "    model.del_component(model.x)\n",
    "    model.del_component(model.x_index)\n",
    "except:\n",
    "    print(\"Defining element variable for first time\")\n",
    "model.x = Var(E, F, domain=NonNegativeReals)\n",
    "\n",
    "model.pprint()"
   ]
  },
  {
   "cell_type": "code",
   "execution_count": 20,
   "metadata": {},
   "outputs": [],
   "source": [
    "def fert_objective(model, E, F):\n",
    "    model_sum = []\n",
    "    for i in E:\n",
    "        for j in F:\n",
    "            model_sum = sum(model.x[i,j]*revenue[j])-sum(model.x[i,j]*cost[i])\n",
    "    return model_sum"
   ]
  },
  {
   "cell_type": "code",
   "execution_count": 35,
   "metadata": {},
   "outputs": [
    {
     "data": {
      "text/plain": "<pyomo.core.base.sets.SimpleSet at 0x7f434bfece30>"
     },
     "execution_count": 35,
     "metadata": {},
     "output_type": "execute_result"
    }
   ],
   "source": [
    "model.x_index_0"
   ]
  },
  {
   "cell_type": "code",
   "execution_count": 37,
   "metadata": {},
   "outputs": [
    {
     "name": "stdout",
     "output_type": "stream",
     "text": "Defining profit for the first time\n"
    },
    {
     "ename": "TypeError",
     "evalue": "'method' object is not iterable",
     "output_type": "error",
     "traceback": [
      "\u001b[0;31m---------------------------------------------------------------------------\u001b[0m",
      "\u001b[0;31mTypeError\u001b[0m                                 Traceback (most recent call last)",
      "\u001b[0;32m<ipython-input-37-9f83d24238b8>\u001b[0m in \u001b[0;36m<module>\u001b[0;34m\u001b[0m\n\u001b[1;32m      4\u001b[0m     \u001b[0mprint\u001b[0m\u001b[0;34m(\u001b[0m\u001b[0;34m\"Defining profit for the first time\"\u001b[0m\u001b[0;34m)\u001b[0m\u001b[0;34m\u001b[0m\u001b[0;34m\u001b[0m\u001b[0m\n\u001b[1;32m      5\u001b[0m model.Profit = Objective(\n\u001b[0;32m----> 6\u001b[0;31m     expr = (sum(model.x[i,j]*revenue[j])-sum(model.x[i,j]*cost[i]) for (i,j) in model.x.keys),sense = maximize)\n\u001b[0m\u001b[1;32m      7\u001b[0m \u001b[0;34m\u001b[0m\u001b[0m\n\u001b[1;32m      8\u001b[0m \u001b[0;31m#fert_objective(model, E, F),sense=maximize)\u001b[0m\u001b[0;34m\u001b[0m\u001b[0;34m\u001b[0m\u001b[0;34m\u001b[0m\u001b[0m\n",
      "\u001b[0;31mTypeError\u001b[0m: 'method' object is not iterable"
     ]
    }
   ],
   "source": [
    "try:\n",
    "    model.del_component(model.Profit)\n",
    "except:\n",
    "    print(\"Defining profit for the first time\")\n",
    "model.Profit = Objective(\n",
    "    expr = (sum(model.x[i,j]*revenue[j])-sum(model.x[i,j]*cost[i]) for (i,j) in model.x.keys),sense = maximize)\n",
    "    \n",
    "#for (i,j) in [(i,j) for i in range(x) for j in range(y)]"
   ]
  },
  {
   "cell_type": "code",
   "execution_count": null,
   "metadata": {},
   "outputs": [],
   "source": []
  },
  {
   "cell_type": "code",
   "execution_count": null,
   "metadata": {},
   "outputs": [],
   "source": []
  },
  {
   "cell_type": "code",
   "execution_count": null,
   "metadata": {},
   "outputs": [],
   "source": []
  },
  {
   "cell_type": "code",
   "execution_count": null,
   "metadata": {},
   "outputs": [],
   "source": []
  }
 ]
}